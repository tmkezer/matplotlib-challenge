{
 "cells": [
  {
   "cell_type": "markdown",
   "metadata": {},
   "source": [
    "## Observations and Insights"
   ]
  },
  {
   "cell_type": "markdown",
   "metadata": {},
   "source": []
  },
  {
   "cell_type": "markdown",
   "metadata": {},
   "source": [
    "## Dependencies and starter code"
   ]
  },
  {
   "cell_type": "markdown",
   "metadata": {},
   "source": [
    "OBSERVATIONS:\n",
    "    1) Only Ramicane and Capomulin appear to have a strong effect leading to a decrease in tumor volume.\n",
    "    2) There is a roughly equal distribution of male and female mice\n",
    "    3) Of the four most promising regimens, there was only 1 outlier, meaning the quality of data is strong."
   ]
  },
  {
   "cell_type": "code",
   "execution_count": 72,
   "metadata": {},
   "outputs": [],
   "source": [
    "# Dependencies and Setup\n",
    "import matplotlib.pyplot as plt\n",
    "import pandas as pd\n",
    "import scipy.stats as st\n",
    "\n",
    "# Study data files\n",
    "mouse_metadata = \"Mouse_metadata.csv\"\n",
    "study_results = \"Study_results.csv\"\n",
    "\n",
    "# Read the mouse data and the study results\n",
    "mouse_metadata = pd.read_csv(mouse_metadata)\n",
    "study_results = pd.read_csv(study_results)\n",
    "\n",
    "# Combine the data into a single dataset\n",
    "\n",
    "combined_df = mouse_metadata.merge(study_results, on='Mouse ID')\n",
    "\n"
   ]
  },
  {
   "cell_type": "markdown",
   "metadata": {},
   "source": [
    "## Summary statistics"
   ]
  },
  {
   "cell_type": "code",
   "execution_count": 73,
   "metadata": {},
   "outputs": [
    {
     "data": {
      "text/html": [
       "<div>\n",
       "<style scoped>\n",
       "    .dataframe tbody tr th:only-of-type {\n",
       "        vertical-align: middle;\n",
       "    }\n",
       "\n",
       "    .dataframe tbody tr th {\n",
       "        vertical-align: top;\n",
       "    }\n",
       "\n",
       "    .dataframe thead th {\n",
       "        text-align: right;\n",
       "    }\n",
       "</style>\n",
       "<table border=\"1\" class=\"dataframe\">\n",
       "  <thead>\n",
       "    <tr style=\"text-align: right;\">\n",
       "      <th></th>\n",
       "      <th>Mean Tumor Volume (mm3)</th>\n",
       "      <th>Median Tumor Volume (mm3)</th>\n",
       "      <th>Variance of Tumor Volume (mm3)</th>\n",
       "      <th>Standard Deviation of Tumor Volume (mm3)</th>\n",
       "      <th>Standard Error of Tumor Volume (mm3)</th>\n",
       "    </tr>\n",
       "    <tr>\n",
       "      <th>Drug Regimen</th>\n",
       "      <th></th>\n",
       "      <th></th>\n",
       "      <th></th>\n",
       "      <th></th>\n",
       "      <th></th>\n",
       "    </tr>\n",
       "  </thead>\n",
       "  <tbody>\n",
       "    <tr>\n",
       "      <td>Capomulin</td>\n",
       "      <td>40.675741</td>\n",
       "      <td>41.557809</td>\n",
       "      <td>24.947764</td>\n",
       "      <td>4.994774</td>\n",
       "      <td>0.329346</td>\n",
       "    </tr>\n",
       "    <tr>\n",
       "      <td>Ceftamin</td>\n",
       "      <td>52.591172</td>\n",
       "      <td>51.776157</td>\n",
       "      <td>39.290177</td>\n",
       "      <td>6.268188</td>\n",
       "      <td>0.469821</td>\n",
       "    </tr>\n",
       "    <tr>\n",
       "      <td>Infubinol</td>\n",
       "      <td>52.884795</td>\n",
       "      <td>51.820584</td>\n",
       "      <td>43.128684</td>\n",
       "      <td>6.567243</td>\n",
       "      <td>0.492236</td>\n",
       "    </tr>\n",
       "    <tr>\n",
       "      <td>Ketapril</td>\n",
       "      <td>55.235638</td>\n",
       "      <td>53.698743</td>\n",
       "      <td>68.553577</td>\n",
       "      <td>8.279709</td>\n",
       "      <td>0.603860</td>\n",
       "    </tr>\n",
       "    <tr>\n",
       "      <td>Naftisol</td>\n",
       "      <td>54.331565</td>\n",
       "      <td>52.509285</td>\n",
       "      <td>66.173479</td>\n",
       "      <td>8.134708</td>\n",
       "      <td>0.596466</td>\n",
       "    </tr>\n",
       "    <tr>\n",
       "      <td>Placebo</td>\n",
       "      <td>54.033581</td>\n",
       "      <td>52.288934</td>\n",
       "      <td>61.168083</td>\n",
       "      <td>7.821003</td>\n",
       "      <td>0.581331</td>\n",
       "    </tr>\n",
       "    <tr>\n",
       "      <td>Propriva</td>\n",
       "      <td>52.322552</td>\n",
       "      <td>50.854632</td>\n",
       "      <td>42.351070</td>\n",
       "      <td>6.507770</td>\n",
       "      <td>0.512884</td>\n",
       "    </tr>\n",
       "    <tr>\n",
       "      <td>Ramicane</td>\n",
       "      <td>40.216745</td>\n",
       "      <td>40.673236</td>\n",
       "      <td>23.486704</td>\n",
       "      <td>4.846308</td>\n",
       "      <td>0.320955</td>\n",
       "    </tr>\n",
       "    <tr>\n",
       "      <td>Stelasyn</td>\n",
       "      <td>54.233149</td>\n",
       "      <td>52.431737</td>\n",
       "      <td>59.450562</td>\n",
       "      <td>7.710419</td>\n",
       "      <td>0.573111</td>\n",
       "    </tr>\n",
       "    <tr>\n",
       "      <td>Zoniferol</td>\n",
       "      <td>53.236507</td>\n",
       "      <td>51.818479</td>\n",
       "      <td>48.533355</td>\n",
       "      <td>6.966589</td>\n",
       "      <td>0.516398</td>\n",
       "    </tr>\n",
       "  </tbody>\n",
       "</table>\n",
       "</div>"
      ],
      "text/plain": [
       "              Mean Tumor Volume (mm3)  Median Tumor Volume (mm3)  \\\n",
       "Drug Regimen                                                       \n",
       "Capomulin                   40.675741                  41.557809   \n",
       "Ceftamin                    52.591172                  51.776157   \n",
       "Infubinol                   52.884795                  51.820584   \n",
       "Ketapril                    55.235638                  53.698743   \n",
       "Naftisol                    54.331565                  52.509285   \n",
       "Placebo                     54.033581                  52.288934   \n",
       "Propriva                    52.322552                  50.854632   \n",
       "Ramicane                    40.216745                  40.673236   \n",
       "Stelasyn                    54.233149                  52.431737   \n",
       "Zoniferol                   53.236507                  51.818479   \n",
       "\n",
       "              Variance of Tumor Volume (mm3)  \\\n",
       "Drug Regimen                                   \n",
       "Capomulin                          24.947764   \n",
       "Ceftamin                           39.290177   \n",
       "Infubinol                          43.128684   \n",
       "Ketapril                           68.553577   \n",
       "Naftisol                           66.173479   \n",
       "Placebo                            61.168083   \n",
       "Propriva                           42.351070   \n",
       "Ramicane                           23.486704   \n",
       "Stelasyn                           59.450562   \n",
       "Zoniferol                          48.533355   \n",
       "\n",
       "              Standard Deviation of Tumor Volume (mm3)  \\\n",
       "Drug Regimen                                             \n",
       "Capomulin                                     4.994774   \n",
       "Ceftamin                                      6.268188   \n",
       "Infubinol                                     6.567243   \n",
       "Ketapril                                      8.279709   \n",
       "Naftisol                                      8.134708   \n",
       "Placebo                                       7.821003   \n",
       "Propriva                                      6.507770   \n",
       "Ramicane                                      4.846308   \n",
       "Stelasyn                                      7.710419   \n",
       "Zoniferol                                     6.966589   \n",
       "\n",
       "              Standard Error of Tumor Volume (mm3)  \n",
       "Drug Regimen                                        \n",
       "Capomulin                                 0.329346  \n",
       "Ceftamin                                  0.469821  \n",
       "Infubinol                                 0.492236  \n",
       "Ketapril                                  0.603860  \n",
       "Naftisol                                  0.596466  \n",
       "Placebo                                   0.581331  \n",
       "Propriva                                  0.512884  \n",
       "Ramicane                                  0.320955  \n",
       "Stelasyn                                  0.573111  \n",
       "Zoniferol                                 0.516398  "
      ]
     },
     "execution_count": 73,
     "metadata": {},
     "output_type": "execute_result"
    }
   ],
   "source": [
    "# Generate a summary statistics table of mean, median, \n",
    "# variance, standard deviation, and SEM of the tumor volume for each regimen\n",
    "\n",
    "# Group the df by Drug Regimen and assigns values to for the mean, median, etc.\n",
    "regimen_df = combined_df.groupby(\"Drug Regimen\")\n",
    "regimen_means = regimen_df[\"Tumor Volume (mm3)\"].mean()\n",
    "regimen_medians = regimen_df[\"Tumor Volume (mm3)\"].median()\n",
    "regimen_var = regimen_df[\"Tumor Volume (mm3)\"].var()\n",
    "regimen_stdev = regimen_df[\"Tumor Volume (mm3)\"].std()\n",
    "regimen_sem = regimen_df[\"Tumor Volume (mm3)\"].sem()\n",
    "\n",
    "# Create a dcittionary for all the values and labels\n",
    "summary_data = {'Mean Tumor Volume (mm3)' : regimen_means,\n",
    "                'Median Tumor Volume (mm3)': regimen_medians,\n",
    "                'Variance of Tumor Volume (mm3)': regimen_var,\n",
    "                'Standard Deviation of Tumor Volume (mm3)': regimen_stdev,\n",
    "                'Standard Error of Tumor Volume (mm3)': regimen_sem\n",
    "                }\n",
    "\n",
    "# Create a df and print the results\n",
    "summary_df = pd.DataFrame(summary_data)\n",
    "summary_df\n"
   ]
  },
  {
   "cell_type": "markdown",
   "metadata": {},
   "source": [
    "## Bar plots"
   ]
  },
  {
   "cell_type": "code",
   "execution_count": 74,
   "metadata": {},
   "outputs": [
    {
     "data": {
      "image/png": "[encoded data removed]",
      "text/plain": [
       "<Figure size 432x288 with 1 Axes>"
      ]
     },
     "metadata": {
      "needs_background": "light"
     },
     "output_type": "display_data"
    }
   ],
   "source": [
    "# Generate a bar plot showing number of data points for each treatment regimen using pandas\n",
    "\n",
    "# Assign regimen counts from the grouped df\n",
    "regimen_counts = regimen_df['Sex'].count()\n",
    "\n",
    "# Create a new df with just the count of data points by Drug Regimen\n",
    "regimen_counts_df = pd.DataFrame({'Regimen Data Points' : regimen_counts})\n",
    "\n",
    "# Plot the new df as a bar chart\n",
    "regimen_counts_df.plot.bar()\n",
    "plt.show()"
   ]
  },
  {
   "cell_type": "code",
   "execution_count": 75,
   "metadata": {},
   "outputs": [
    {
     "data": {
      "image/png": "[encoded data removed]",
      "text/plain": [
       "<Figure size 432x288 with 1 Axes>"
      ]
     },
     "metadata": {
      "needs_background": "light"
     },
     "output_type": "display_data"
    }
   ],
   "source": [
    "# Generate a bar plot showing number of data points for each treatment regimen using pyplot\n",
    "\n",
    "# Plot the bar chart using the df index values and counts\n",
    "plt.bar(regimen_counts_df.index, regimen_counts, width = 0.5)\n",
    "\n",
    "# Orient the xticks to be verical\n",
    "plt.xticks(rotation=\"vertical\")\n",
    "\n",
    "# Add the legend to the plot\n",
    "plt.legend((\"Degimen Data Points\",), loc = 'upper center',  prop={'size': 10})\n",
    "\n",
    "# Add an xlabel for the Drug Regimen\n",
    "plt.xlabel(\"Drug Regimen\")\n",
    "plt.show()"
   ]
  },
  {
   "cell_type": "code",
   "execution_count": null,
   "metadata": {},
   "outputs": [],
   "source": []
  },
  {
   "cell_type": "markdown",
   "metadata": {},
   "source": [
    "## Pie plots"
   ]
  },
  {
   "cell_type": "code",
   "execution_count": 76,
   "metadata": {},
   "outputs": [
    {
     "data": {
      "image/png": "[encoded data removed]",
      "text/plain": [
       "<Figure size 432x288 with 1 Axes>"
      ]
     },
     "metadata": {},
     "output_type": "display_data"
    }
   ],
   "source": [
    "# Create a function to pass in the pie chart so we can see that actual values\n",
    "def make_autopct(values):\n",
    "    def my_autopct(pct):\n",
    "        total = sum(values)\n",
    "        val = int(round(pct*total/100.0))\n",
    "        return '{p:.2f}%  ({v:d})'.format(p=pct,v=val)\n",
    "    return my_autopct\n",
    "\n",
    "# Drop duplicate rows for the same mouse, index the sex and count the values and assign to a variable\n",
    "pie_values = combined_df.drop_duplicates(\"Mouse ID\")['Sex'].value_counts()\n",
    "\n",
    "# Create a new df for the sex values\n",
    "sex_df = pd.DataFrame({'Sex' : pie_values})\n",
    "\n",
    "\n",
    "# Plot the df using .plot.pie and passing the function to autopct\n",
    "sex_df.plot.pie(subplots = True, autopct=make_autopct(sex_df['Sex']))\n",
    "plt.show()\n"
   ]
  },
  {
   "cell_type": "code",
   "execution_count": 77,
   "metadata": {},
   "outputs": [
    {
     "data": {
      "image/png": "[encoded data removed]",
      "text/plain": [
       "<Figure size 432x288 with 1 Axes>"
      ]
     },
     "metadata": {},
     "output_type": "display_data"
    }
   ],
   "source": [
    "# Generate a pie plot showing the distribution of female versus male mice using pyplot\n",
    "\n",
    "# Assign the values of the df to a variable\n",
    "values= combined_df.drop_duplicates(\"Mouse ID\")['Sex'].value_counts()\n",
    "\n",
    "# Plot the pie chart using the passed values, assign labels, and formatting function to autopct\n",
    "plt.pie(values, labels = (\"Male\", \"Female\"),autopct=make_autopct(values))\n",
    "\n",
    "# Add a label and legend and show the pie chart\n",
    "plt.ylabel(\"Sex\")\n",
    "plt.legend(loc=\"best\")\n",
    "plt.show()"
   ]
  },
  {
   "cell_type": "markdown",
   "metadata": {},
   "source": [
    "## Quartiles, outliers and boxplots"
   ]
  },
  {
   "cell_type": "code",
   "execution_count": 78,
   "metadata": {},
   "outputs": [
    {
     "data": {
      "text/plain": [
       "Drug Regimen\n",
       "Ramicane     36.191390\n",
       "Capomulin    36.667568\n",
       "Propriva     56.736964\n",
       "Ceftamin     57.753977\n",
       "Name: Tumor Volume (mm3), dtype: float64"
      ]
     },
     "execution_count": 78,
     "metadata": {},
     "output_type": "execute_result"
    }
   ],
   "source": [
    "# Identify the four most promising drug regimens\n",
    "\n",
    "# Change the pd max display rows\n",
    "pd.options.display.max_rows = 50\n",
    "\n",
    "# Filter the df for rows only with timepoint == 45 and a create a new df grouped by Drug regimen\n",
    "vol_df = combined_df.drop_duplicates(subset =\"Mouse ID\", keep = 'last').groupby(\"Drug Regimen\")\n",
    "\n",
    "# Identify the four drug regimens with the smallest final tumor volumes\n",
    "vol_df['Tumor Volume (mm3)'].mean().nsmallest(4)"
   ]
  },
  {
   "cell_type": "code",
   "execution_count": 79,
   "metadata": {},
   "outputs": [],
   "source": [
    "# Create a new df with just the most effective regimens\n",
    "best_regimens_df = combined_df.loc[(combined_df['Drug Regimen'] == 'Ramicane') | \n",
    "                                   (combined_df['Drug Regimen'] == 'Capomulin') |\n",
    "                                   (combined_df['Drug Regimen'] == 'Ceftamin') |\n",
    "                                   (combined_df['Drug Regimen'] == 'Infubinol')\n",
    "                                  ]\n",
    "\n",
    "# Create a new df with just the final timepoint for each mouse in the most effective regimens\n",
    "best_regimens_df_45 = best_regimens_df.drop_duplicates(subset =\"Mouse ID\", keep = 'last')\n",
    "\n",
    "# Assign the final values of tumor voluem for each regimen to a series\n",
    "Ramicane_final_vol = best_regimens_df_45.loc[(best_regimens_df_45['Drug Regimen'] == 'Ramicane')]['Tumor Volume (mm3)']\n",
    "Capomulin_final_vol = best_regimens_df_45.loc[(best_regimens_df_45['Drug Regimen'] == 'Capomulin')]['Tumor Volume (mm3)']\n",
    "Ceftamin_final_vol = best_regimens_df_45.loc[(best_regimens_df_45['Drug Regimen'] == 'Ceftamin')]['Tumor Volume (mm3)']\n",
    "Infubinol_final_vol = best_regimens_df_45.loc[(best_regimens_df_45['Drug Regimen'] == 'Infubinol')]['Tumor Volume (mm3)']\n"
   ]
  },
  {
   "cell_type": "code",
   "execution_count": null,
   "metadata": {},
   "outputs": [],
   "source": []
  },
  {
   "cell_type": "code",
   "execution_count": 80,
   "metadata": {},
   "outputs": [
    {
     "name": "stdout",
     "output_type": "stream",
     "text": [
      "Ramicane\n",
      "**********************\n",
      "The lower quartile is: 31.56\n",
      "The upper quartile is: 40.66\n",
      "The interquartile range is: 9.1\n",
      "The the median is: 37.0 \n",
      "Values below 17.91 could be outliers.\n",
      "Values above 54.31 could be outliers.\n",
      "There were a total of 0 outliers identified.\n",
      "**********************\n",
      "Capomulin\n",
      "**********************\n",
      "The lower quartile is: 32.38\n",
      "The upper quartile is: 40.16\n",
      "The interquartile range is: 7.78\n",
      "The the median is: 38.0 \n",
      "Values below 20.71 could be outliers.\n",
      "Values above 51.83 could be outliers.\n",
      "There were a total of 0 outliers identified.\n",
      "**********************\n",
      "Ceftamin\n",
      "**********************\n",
      "The lower quartile is: 48.72\n",
      "The upper quartile is: 64.3\n",
      "The interquartile range is: 15.58\n",
      "The the median is: 60.0 \n",
      "Values below 25.35 could be outliers.\n",
      "Values above 87.67 could be outliers.\n",
      "There were a total of 0 outliers identified.\n",
      "**********************\n",
      "Infubinol\n",
      "**********************\n",
      "The lower quartile is: 54.05\n",
      "The upper quartile is: 65.53\n",
      "The interquartile range is: 11.48\n",
      "The the median is: 60.0 \n",
      "Values below 36.83 could be outliers.\n",
      "Values above 82.75 could be outliers.\n",
      "36.321345799999996 is an outlier\n",
      "There were a total of 1 outliers identified.\n",
      "**********************\n"
     ]
    }
   ],
   "source": [
    "# Print a summary of the regimen quartiles, median, IQR, Upper and Lower bounds, and possible outliers\n",
    "\n",
    "# Iterate through each of the drug regimens and + 1 to run \n",
    "run = 1\n",
    "for i in [Ramicane_final_vol, Capomulin_final_vol, Ceftamin_final_vol, Infubinol_final_vol]:\n",
    "    if run == 1:\n",
    "        print(\"Ramicane\")\n",
    "        run = run + 1\n",
    "    elif run == 2:\n",
    "        print(\"Capomulin\")\n",
    "        run = run + 1\n",
    "    elif run == 3:\n",
    "        print(\"Ceftamin\")\n",
    "        run = run + 1\n",
    "    elif run == 4:\n",
    "        print(\"Infubinol\")\n",
    "        run = run + 1\n",
    "        \n",
    "    # Identify the quartiles and IQR\n",
    "    quartiles = i.quantile([.25,.5,.75])\n",
    "    lowerq = round(quartiles[0.25],2)\n",
    "    upperq = round(quartiles[0.75],2)\n",
    "    iqr = round(upperq-lowerq, 2)\n",
    "    \n",
    "    # Print the results\n",
    "    print(\"**********************\")\n",
    "    print(f\"The lower quartile is: {lowerq}\")\n",
    "    print(f\"The upper quartile is: {upperq}\")\n",
    "    print(f\"The interquartile range is: {iqr}\")\n",
    "    print(f\"The the median is: {round(quartiles[0.5],)} \")\n",
    "    \n",
    "    #Identify and print the upper and lower bounds \n",
    "    lower_bound = lowerq - (1.5*iqr)\n",
    "    upper_bound = upperq + (1.5*iqr)\n",
    "    print(f\"Values below {round(lower_bound,2)} could be outliers.\")\n",
    "    print(f\"Values above {round(upper_bound,2)} could be outliers.\")\n",
    "    \n",
    "    # Identify and print any potential outliers for each of the datasets\n",
    "    outlier_count = 0\n",
    "    for j in i:\n",
    "        if (j < lower_bound) | (j > upper_bound):\n",
    "            print(f\"{j} is an outlier\")\n",
    "            outlier_count = outlier_count + 1\n",
    "    print(f\"There were a total of {outlier_count} outliers identified.\")\n",
    "    print(\"**********************\")"
   ]
  },
  {
   "cell_type": "code",
   "execution_count": 81,
   "metadata": {},
   "outputs": [
    {
     "data": {
      "image/png": "[encoded data removed]",
      "text/plain": [
       "<Figure size 432x288 with 1 Axes>"
      ]
     },
     "metadata": {
      "needs_background": "light"
     },
     "output_type": "display_data"
    }
   ],
   "source": [
    "# Generate a box plot of the final tumor volume of each mouse across four regimens of interest\n",
    "\n",
    "green_diamond = dict(markerfacecolor='r', marker='D')\n",
    "\n",
    "# Createa a list of the datasets\n",
    "data = [Ramicane_final_vol, Capomulin_final_vol, Ceftamin_final_vol, Infubinol_final_vol]\n",
    "\n",
    "# Chart the box plot and set title, outlier format and x ticks\n",
    "fig7, ax7 = plt.subplots()\n",
    "ax7.set_title('Final Tumor Volume (mm3)')\n",
    "ax7.boxplot(data, flierprops=green_diamond)\n",
    "plt.xticks([1, 2, 3, 4], ['Ramicane', 'Capomulin', 'Ceftamin', 'Infubinol'])\n",
    "\n",
    "plt.show()\n",
    "\n",
    "# NOTE: There was only 1 outlier identified"
   ]
  },
  {
   "cell_type": "markdown",
   "metadata": {},
   "source": [
    "## Line and scatter plots"
   ]
  },
  {
   "cell_type": "code",
   "execution_count": 82,
   "metadata": {},
   "outputs": [
    {
     "data": {
      "image/png": "[encoded data removed]",
      "text/plain": [
       "<Figure size 432x288 with 1 Axes>"
      ]
     },
     "metadata": {
      "needs_background": "light"
     },
     "output_type": "display_data"
    }
   ],
   "source": [
    "# Generate a line plot of time point versus tumor volume for a mouse treated with Capomulin\n",
    "\n",
    "# Create a new df for a single mouse\n",
    "s185_df = combined_df.loc[(combined_df['Mouse ID'] == 's185')]\n",
    "\n",
    "# Plot the df using the timepoint column and tumor volume column\n",
    "plt.plot(s185_df['Timepoint'], s185_df['Tumor Volume (mm3)'], color=\"red\", label=\"Danger Drop\")\n",
    "\n",
    "# Add labels to X and Y axes :: Add title\n",
    "plt.title(\"Tumor Volume Over Time (s185)\")\n",
    "plt.xlabel(\"Timepoint\")\n",
    "plt.ylabel(\"Tumor Volume (mm3)\")\n",
    "plt.xticks(s185_df['Timepoint'])\n",
    "plt.grid()\n",
    "\n",
    "plt.show()"
   ]
  },
  {
   "cell_type": "code",
   "execution_count": null,
   "metadata": {},
   "outputs": [],
   "source": [
    "\n",
    "\n",
    "\n"
   ]
  },
  {
   "cell_type": "code",
   "execution_count": 83,
   "metadata": {},
   "outputs": [
    {
     "data": {
      "image/png": "[encoded data removed]",
      "text/plain": [
       "<Figure size 432x288 with 1 Axes>"
      ]
     },
     "metadata": {
      "needs_background": "light"
     },
     "output_type": "display_data"
    }
   ],
   "source": [
    "# Generate a scatter plot of mouse weight versus average tumor volume for the Capomulin regimen\n",
    "\n",
    "# Create a new df for Capomulin\n",
    "capomulin_df = combined_df.loc[(combined_df['Drug Regimen'] == 'Capomulin')]\n",
    "x = capomulin_df['Weight (g)'].drop_duplicates()\n",
    "\n",
    "# Create a two scatter plots: One for all the values and the other for the means by weight\n",
    "plt.scatter(capomulin_df['Weight (g)'],capomulin_df['Tumor Volume (mm3)'], c='lightblue')\n",
    "plt.scatter(x.nsmallest(len(x)), capomulin_df.groupby('Weight (g)').mean()['Tumor Volume (mm3)'], c='red')\n",
    "\n",
    "\n",
    "# import dependency\n",
    "from scipy.stats import linregress\n",
    "\n",
    "# Set values and pass into the linear regression function\n",
    "x_values = x.nsmallest(len(x))\n",
    "y_values = capomulin_df.groupby('Weight (g)').mean()['Tumor Volume (mm3)']\n",
    "(slope, intercept, rvalue, pvalue, stderr) = linregress(x_values, y_values)\n",
    "\n",
    "# Create the linear regression values\n",
    "regress_values = x_values * slope + intercept\n",
    "line_eq = \"y = \" + str(round(slope,2)) + \"x + \" + str(round(intercept,2))\n",
    "\n",
    "# Plot the linear regression line\n",
    "plt.plot(x_values,regress_values,\"r-\", c='blue')\n",
    "plt.annotate(line_eq,(22,30), color=\"black\")\n",
    "\n",
    "plt.xlabel(\"Mouse Weight (g)\")\n",
    "plt.ylabel(\"Tumor Volume (mm3)\")\n",
    "plt.title(\"Weight vs. Tumor Volume\")\n",
    "\n",
    "plt.show()"
   ]
  },
  {
   "cell_type": "code",
   "execution_count": null,
   "metadata": {},
   "outputs": [],
   "source": []
  },
  {
   "cell_type": "code",
   "execution_count": null,
   "metadata": {},
   "outputs": [],
   "source": []
  },
  {
   "cell_type": "code",
   "execution_count": null,
   "metadata": {},
   "outputs": [],
   "source": []
  },
  {
   "cell_type": "code",
   "execution_count": null,
   "metadata": {},
   "outputs": [],
   "source": []
  },
  {
   "cell_type": "code",
   "execution_count": null,
   "metadata": {},
   "outputs": [],
   "source": []
  },
  {
   "cell_type": "code",
   "execution_count": null,
   "metadata": {},
   "outputs": [],
   "source": []
  },
  {
   "cell_type": "code",
   "execution_count": null,
   "metadata": {},
   "outputs": [],
   "source": []
  },
  {
   "cell_type": "code",
   "execution_count": null,
   "metadata": {},
   "outputs": [],
   "source": []
  },
  {
   "cell_type": "code",
   "execution_count": null,
   "metadata": {},
   "outputs": [],
   "source": []
  },
  {
   "cell_type": "code",
   "execution_count": null,
   "metadata": {},
   "outputs": [],
   "source": []
  }
 ],
 "metadata": {
  "anaconda-cloud": {},
  "kernelspec": {
   "display_name": "Python 3",
   "language": "python",
   "name": "python3"
  },
  "language_info": {
   "codemirror_mode": {
    "name": "ipython",
    "version": 3
   },
   "file_extension": ".py",
   "mimetype": "text/x-python",
   "name": "python",
   "nbconvert_exporter": "python",
   "pygments_lexer": "ipython3",
   "version": "3.7.4"
  }
 },
 "nbformat": 4,
 "nbformat_minor": 2
}
